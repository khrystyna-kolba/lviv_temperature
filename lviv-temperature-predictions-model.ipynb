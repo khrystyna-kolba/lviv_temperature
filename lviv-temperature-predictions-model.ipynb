{
 "cells": [
  {
   "cell_type": "code",
   "execution_count": 1,
   "metadata": {
    "execution": {
     "iopub.execute_input": "2022-09-08T14:07:26.809749Z",
     "iopub.status.busy": "2022-09-08T14:07:26.809296Z",
     "iopub.status.idle": "2022-09-08T14:07:42.648032Z",
     "shell.execute_reply": "2022-09-08T14:07:42.646775Z",
     "shell.execute_reply.started": "2022-09-08T14:07:26.809661Z"
    }
   },
   "outputs": [],
   "source": [
    "!pip install neuralprophet"
   ]
  },
  {
   "cell_type": "code",
   "execution_count": 2,
   "metadata": {
    "execution": {
     "iopub.execute_input": "2022-09-08T14:07:42.650297Z",
     "iopub.status.busy": "2022-09-08T14:07:42.649921Z",
     "iopub.status.idle": "2022-09-08T14:07:45.023176Z",
     "shell.execute_reply": "2022-09-08T14:07:45.022039Z",
     "shell.execute_reply.started": "2022-09-08T14:07:42.650256Z"
    }
   },
   "outputs": [],
   "source": [
    "import numpy as np \n",
    "import pandas as pd\n",
    "import os\n",
    "from neuralprophet import NeuralProphet\n",
    "import matplotlib.pyplot as plt\n",
    "import matplotlib\n",
    "from scipy import stats\n",
    "import seaborn as sns\n",
    "import math\n",
    "color_pal = sns.color_palette()\n",
    "plt.style.use('fivethirtyeight')"
   ]
  },
  {
   "cell_type": "code",
   "execution_count": 8,
   "metadata": {
    "execution": {
     "iopub.execute_input": "2022-09-08T14:08:05.336215Z",
     "iopub.status.busy": "2022-09-08T14:08:05.335678Z",
     "iopub.status.idle": "2022-09-08T14:08:05.421875Z",
     "shell.execute_reply": "2022-09-08T14:08:05.420720Z",
     "shell.execute_reply.started": "2022-09-08T14:08:05.336166Z"
    }
   },
   "outputs": [],
   "source": [
    "data = pd.read_csv('/kaggle/input/lviv-temperature/lviv_temp.csv', header=0,names=[\"date\",\"year\",\"month\",\"day\",\"dayofyear\",\"data\"])\n",
    "data[\"date\"]=pd.to_datetime(data[\"date\"])\n",
    "data.head()\n"
   ]
  },
  {
   "cell_type": "code",
   "execution_count": 9,
   "metadata": {
    "execution": {
     "iopub.execute_input": "2022-09-08T14:08:05.720526Z",
     "iopub.status.busy": "2022-09-08T14:08:05.720027Z",
     "iopub.status.idle": "2022-09-08T14:08:05.730430Z",
     "shell.execute_reply": "2022-09-08T14:08:05.729399Z",
     "shell.execute_reply.started": "2022-09-08T14:08:05.720483Z"
    }
   },
   "outputs": [],
   "source": [
    "data.dtypes"
   ]
  },
  {
   "cell_type": "code",
   "execution_count": 10,
   "metadata": {
    "execution": {
     "iopub.execute_input": "2022-09-08T14:08:05.932142Z",
     "iopub.status.busy": "2022-09-08T14:08:05.931000Z",
     "iopub.status.idle": "2022-09-08T14:08:06.566511Z",
     "shell.execute_reply": "2022-09-08T14:08:06.565447Z",
     "shell.execute_reply.started": "2022-09-08T14:08:05.932105Z"
    }
   },
   "outputs": [],
   "source": [
    "g = data[[\"data\",\"date\"]]\n",
    "g.index=g[\"date\"]\n",
    "g[\"data\"].plot(style='.',\n",
    "        figsize=(15, 5),\n",
    "        color=color_pal[0],\n",
    "        title='Average temperature in lviv C')\n",
    "plt.show()"
   ]
  },
  {
   "cell_type": "code",
   "execution_count": 11,
   "metadata": {
    "execution": {
     "iopub.execute_input": "2022-09-08T14:08:06.569767Z",
     "iopub.status.busy": "2022-09-08T14:08:06.568772Z",
     "iopub.status.idle": "2022-09-08T14:08:07.168199Z",
     "shell.execute_reply": "2022-09-08T14:08:07.166912Z",
     "shell.execute_reply.started": "2022-09-08T14:08:06.569723Z"
    }
   },
   "outputs": [],
   "source": [
    "train = g.loc[g.index < '01-01-2010']\n",
    "test = g.loc[g.index >= '01-01-2010']\n",
    "\n",
    "fig, ax = plt.subplots(figsize=(15, 5))\n",
    "train[\"data\"].plot(ax=ax, label='Training Set', title='Data Train/Test Split')\n",
    "test[\"data\"].plot(ax=ax, label='Test Set')\n",
    "ax.axvline('01-01-2010', color='black', ls='--')\n",
    "ax.legend(['Training Set', 'Test Set'])\n",
    "plt.show()"
   ]
  },
  {
   "cell_type": "code",
   "execution_count": 12,
   "metadata": {
    "execution": {
     "iopub.execute_input": "2022-09-08T14:08:07.170151Z",
     "iopub.status.busy": "2022-09-08T14:08:07.169673Z",
     "iopub.status.idle": "2022-09-08T14:08:07.429590Z",
     "shell.execute_reply": "2022-09-08T14:08:07.428644Z",
     "shell.execute_reply.started": "2022-09-08T14:08:07.170107Z"
    }
   },
   "outputs": [],
   "source": [
    "plt.plot(data[\"date\"], data[\"data\"])\n",
    "plt.show()"
   ]
  },
  {
   "cell_type": "code",
   "execution_count": 13,
   "metadata": {
    "execution": {
     "iopub.execute_input": "2022-09-08T14:08:07.433852Z",
     "iopub.status.busy": "2022-09-08T14:08:07.433210Z",
     "iopub.status.idle": "2022-09-08T14:08:07.453836Z",
     "shell.execute_reply": "2022-09-08T14:08:07.452739Z",
     "shell.execute_reply.started": "2022-09-08T14:08:07.433804Z"
    }
   },
   "outputs": [],
   "source": [
    "new_column = data[[\"date\",\"data\"]][:-3000]\n",
    "new_column.columns=[\"ds\",\"y\"]\n",
    "new_column"
   ]
  },
  {
   "cell_type": "code",
   "execution_count": 14,
   "metadata": {
    "execution": {
     "iopub.execute_input": "2022-09-08T14:08:07.456866Z",
     "iopub.status.busy": "2022-09-08T14:08:07.456116Z",
     "iopub.status.idle": "2022-09-08T14:09:08.516907Z",
     "shell.execute_reply": "2022-09-08T14:09:08.515702Z",
     "shell.execute_reply.started": "2022-09-08T14:08:07.456816Z"
    }
   },
   "outputs": [],
   "source": [
    "n = NeuralProphet()\n",
    "model = n.fit(new_column, freq='D')#, epochs=5000)"
   ]
  },
  {
   "cell_type": "code",
   "execution_count": 15,
   "metadata": {
    "execution": {
     "iopub.execute_input": "2022-09-08T14:09:08.518955Z",
     "iopub.status.busy": "2022-09-08T14:09:08.518381Z",
     "iopub.status.idle": "2022-09-08T14:09:15.193383Z",
     "shell.execute_reply": "2022-09-08T14:09:15.192165Z",
     "shell.execute_reply.started": "2022-09-08T14:09:08.518916Z"
    }
   },
   "outputs": [],
   "source": [
    "future = n.make_future_dataframe(new_column, periods=10000)\n",
    "forecast = n.predict(future)\n",
    "forecast.tail()\n",
    "future\n",
    "forecast"
   ]
  },
  {
   "cell_type": "code",
   "execution_count": 16,
   "metadata": {
    "execution": {
     "iopub.execute_input": "2022-09-08T14:09:15.195123Z",
     "iopub.status.busy": "2022-09-08T14:09:15.194732Z",
     "iopub.status.idle": "2022-09-08T14:09:15.719864Z",
     "shell.execute_reply": "2022-09-08T14:09:15.718611Z",
     "shell.execute_reply.started": "2022-09-08T14:09:15.195090Z"
    }
   },
   "outputs": [],
   "source": [
    "plot = n.plot(forecast)"
   ]
  },
  {
   "cell_type": "code",
   "execution_count": 17,
   "metadata": {
    "execution": {
     "iopub.execute_input": "2022-09-08T14:09:15.722368Z",
     "iopub.status.busy": "2022-09-08T14:09:15.721901Z",
     "iopub.status.idle": "2022-09-08T14:09:16.213184Z",
     "shell.execute_reply": "2022-09-08T14:09:16.212116Z",
     "shell.execute_reply.started": "2022-09-08T14:09:15.722315Z"
    }
   },
   "outputs": [],
   "source": [
    "pred = data[[\"date\",\"data\"]][-3000:]\n",
    "pred.columns=['ds','y']\n",
    "predictions = n.predict(pred)\n",
    "predictions.index=pred.index\n",
    "#df = data.merge(test[['prediction']], how='left', left_index=True, right_index=True)\n",
    "ax = data[['data']].plot(figsize=(15, 5))\n",
    "#plt.plot(data[\"date\"], data[\"data\"])\n",
    "predictions[\"y\"].plot(ax=ax, style='.')\n",
    "plt.legend(['Truth Data', 'Predictions'])\n",
    "ax.set_title('Raw Dat and Prediction')\n",
    "plt.show()\n",
    "#predictions"
   ]
  },
  {
   "cell_type": "code",
   "execution_count": 22,
   "metadata": {
    "execution": {
     "iopub.execute_input": "2022-09-08T14:11:10.547703Z",
     "iopub.status.busy": "2022-09-08T14:11:10.546985Z",
     "iopub.status.idle": "2022-09-08T14:11:10.588757Z",
     "shell.execute_reply": "2022-09-08T14:11:10.587632Z",
     "shell.execute_reply.started": "2022-09-08T14:11:10.547664Z"
    }
   },
   "outputs": [],
   "source": [
    "k = pd.DataFrame({\"ds\": [pd.to_datetime(\"07-06-2200\"),pd.to_datetime(\"07-07-2200\")], \"y\": [None, None]})\n",
    "dyp = data[[\"date\",\"data\"]][-2:]\n",
    "dyp.columns=['ds','y']\n",
    "fore = n.predict(k)\n",
    "fore"
   ]
  },
  {
   "cell_type": "code",
   "execution_count": 32,
   "metadata": {
    "execution": {
     "iopub.execute_input": "2022-09-08T14:19:02.553178Z",
     "iopub.status.busy": "2022-09-08T14:19:02.552685Z",
     "iopub.status.idle": "2022-09-08T14:19:02.567437Z",
     "shell.execute_reply": "2022-09-08T14:19:02.566180Z",
     "shell.execute_reply.started": "2022-09-08T14:19:02.553139Z"
    }
   },
   "outputs": [],
   "source": [
    "import pickle\n",
    "pkl_path = \"/kaggle/working/fore.pkl\"\n",
    "with open(pkl_path, \"wb\") as f:\n",
    "    # Pickle the 'Prophet' model using the highest protocol available.\n",
    "    pickle.dump(n, f)\n",
    "\n",
    "# save the dataframe\n",
    "forecast.to_pickle(\"/kaggle/working/forecast.pkl\")\n",
    "print(\"*** Data Saved ***\")"
   ]
  },
  {
   "cell_type": "code",
   "execution_count": 35,
   "metadata": {
    "execution": {
     "iopub.execute_input": "2022-09-08T14:21:28.951323Z",
     "iopub.status.busy": "2022-09-08T14:21:28.950871Z",
     "iopub.status.idle": "2022-09-08T14:21:28.993169Z",
     "shell.execute_reply": "2022-09-08T14:21:28.992023Z",
     "shell.execute_reply.started": "2022-09-08T14:21:28.951288Z"
    }
   },
   "outputs": [],
   "source": [
    "f = pd.read_pickle(\"/kaggle/working/fore.pkl\")\n",
    "f.predict(k)"
   ]
  },
  {
   "cell_type": "code",
   "execution_count": null,
   "metadata": {},
   "outputs": [],
   "source": []
  }
 ],
 "metadata": {
  "kernelspec": {
   "display_name": "Python 3 (ipykernel)",
   "language": "python",
   "name": "python3"
  },
  "language_info": {
   "codemirror_mode": {
    "name": "ipython",
    "version": 3
   },
   "file_extension": ".py",
   "mimetype": "text/x-python",
   "name": "python",
   "nbconvert_exporter": "python",
   "pygments_lexer": "ipython3",
   "version": "3.9.12"
  }
 },
 "nbformat": 4,
 "nbformat_minor": 4
}
